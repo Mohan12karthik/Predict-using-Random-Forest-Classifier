{
 "cells": [
  {
   "cell_type": "markdown",
   "metadata": {
    "id": "xNsf_XJnbG8D"
   },
   "source": [
    "# Predict Apartment Rent"
   ]
  },
  {
   "cell_type": "code",
   "execution_count": 1,
   "metadata": {
    "id": "roOSlk6-aDnk"
   },
   "outputs": [],
   "source": [
    "# If additional packages are needed but are not installed by default, uncomment the last two lines of this cell\n",
    "# and replace <package list> with a list of additional packages.\n",
    "# This will ensure the notebook has all the dependencies and works everywhere\n",
    "\n",
    "#import sys\n",
    "#!{sys.executable} -m pip install <package list>"
   ]
  },
  {
   "cell_type": "code",
   "execution_count": 1,
   "metadata": {
    "id": "fmWa0S0ZbYtx"
   },
   "outputs": [],
   "source": [
    "# Libraries\n",
    "import pandas as pd\n",
    "import numpy as np\n",
    "import sklearn\n",
    "from sklearn.model_selection import train_test_split\n",
    "from sklearn.preprocessing import StandardScaler\n",
    "from sklearn.ensemble import RandomForestClassifier\n",
    "from sklearn.metrics import accuracy_score\n",
    "\n",
    "pd.set_option(\"display.max_columns\", 101)\n",
    "pd.set_option('display.max_colwidth', 100)"
   ]
  },
  {
   "cell_type": "markdown",
   "metadata": {
    "id": "r8kqQ8h2eMJn"
   },
   "source": [
    "## Data Description"
   ]
  },
  {
   "cell_type": "markdown",
   "metadata": {
    "id": "MxXczpXMeNPO"
   },
   "source": [
    "Column | Description\n",
    ":---|:---\n",
    "`id` | Unique ID corresponding to the apartment\n",
    "`age` | Age of the apartment\n",
    "`commute_distance` | Distance of the nearest commute station from the apartment\n",
    "`num_stores` | Number of stores near the apartment\n",
    "`location` | Location of the locality represented as latitude and longitude separated by a delimiter\n",
    "`outcome` | The predicted rent of the apartment (1 - High, 0 - Low)"
   ]
  },
  {
   "cell_type": "code",
   "execution_count": 2,
   "metadata": {
    "colab": {
     "base_uri": "https://localhost:8080/",
     "height": 204
    },
    "executionInfo": {
     "elapsed": 791,
     "status": "ok",
     "timestamp": 1619527827328,
     "user": {
      "displayName": "Abhinav Gupta",
      "photoUrl": "https://lh3.googleusercontent.com/a-/AOh14GjBpiTimJbxMWFkdipjcGYSIUpGfIav82LSmCyTXw=s64",
      "userId": "04670585521629932433"
     },
     "user_tz": -330
    },
    "id": "efkG0EkjeBWo",
    "outputId": "1a0c049c-4aa2-4d17-bc41-553e81a2bba3"
   },
   "outputs": [
    {
     "data": {
      "text/html": [
       "<div>\n",
       "<style scoped>\n",
       "    .dataframe tbody tr th:only-of-type {\n",
       "        vertical-align: middle;\n",
       "    }\n",
       "\n",
       "    .dataframe tbody tr th {\n",
       "        vertical-align: top;\n",
       "    }\n",
       "\n",
       "    .dataframe thead th {\n",
       "        text-align: right;\n",
       "    }\n",
       "</style>\n",
       "<table border=\"1\" class=\"dataframe\">\n",
       "  <thead>\n",
       "    <tr style=\"text-align: right;\">\n",
       "      <th></th>\n",
       "      <th>id</th>\n",
       "      <th>age</th>\n",
       "      <th>commute_distance</th>\n",
       "      <th>num_stores</th>\n",
       "      <th>location</th>\n",
       "      <th>outcome</th>\n",
       "    </tr>\n",
       "  </thead>\n",
       "  <tbody>\n",
       "    <tr>\n",
       "      <th>0</th>\n",
       "      <td>0</td>\n",
       "      <td>thirty-four</td>\n",
       "      <td>405.2134</td>\n",
       "      <td>1</td>\n",
       "      <td>24.97349,121.53372</td>\n",
       "      <td>1.0</td>\n",
       "    </tr>\n",
       "    <tr>\n",
       "      <th>1</th>\n",
       "      <td>1</td>\n",
       "      <td>twelve</td>\n",
       "      <td>250.6310</td>\n",
       "      <td>7</td>\n",
       "      <td>24.96606_121.54297</td>\n",
       "      <td>1.0</td>\n",
       "    </tr>\n",
       "    <tr>\n",
       "      <th>2</th>\n",
       "      <td>2</td>\n",
       "      <td>nine</td>\n",
       "      <td>279.1726</td>\n",
       "      <td>7</td>\n",
       "      <td>24.97528;121.54541</td>\n",
       "      <td>1.0</td>\n",
       "    </tr>\n",
       "    <tr>\n",
       "      <th>3</th>\n",
       "      <td>3</td>\n",
       "      <td>seventeen</td>\n",
       "      <td>350.8515</td>\n",
       "      <td>1</td>\n",
       "      <td>24.97544;121.53119</td>\n",
       "      <td>0.0</td>\n",
       "    </tr>\n",
       "    <tr>\n",
       "      <th>4</th>\n",
       "      <td>4</td>\n",
       "      <td>5</td>\n",
       "      <td>2408.9930</td>\n",
       "      <td>0</td>\n",
       "      <td>24.95505;121.55964</td>\n",
       "      <td>0.0</td>\n",
       "    </tr>\n",
       "  </tbody>\n",
       "</table>\n",
       "</div>"
      ],
      "text/plain": [
       "   id          age  commute_distance  num_stores            location  outcome\n",
       "0   0  thirty-four          405.2134           1  24.97349,121.53372      1.0\n",
       "1   1       twelve          250.6310           7  24.96606_121.54297      1.0\n",
       "2   2         nine          279.1726           7  24.97528;121.54541      1.0\n",
       "3   3    seventeen          350.8515           1  24.97544;121.53119      0.0\n",
       "4   4            5         2408.9930           0  24.95505;121.55964      0.0"
      ]
     },
     "execution_count": 2,
     "metadata": {},
     "output_type": "execute_result"
    }
   ],
   "source": [
    "# The information dataset for the training set is already loaded below\n",
    "train = pd.read_csv('/Users/mohankarthikv/Documents/Data Analytics/train.csv')\n",
    "train.head()"
   ]
  },
  {
   "cell_type": "code",
   "execution_count": 3,
   "metadata": {},
   "outputs": [
    {
     "data": {
      "text/html": [
       "<div>\n",
       "<style scoped>\n",
       "    .dataframe tbody tr th:only-of-type {\n",
       "        vertical-align: middle;\n",
       "    }\n",
       "\n",
       "    .dataframe tbody tr th {\n",
       "        vertical-align: top;\n",
       "    }\n",
       "\n",
       "    .dataframe thead th {\n",
       "        text-align: right;\n",
       "    }\n",
       "</style>\n",
       "<table border=\"1\" class=\"dataframe\">\n",
       "  <thead>\n",
       "    <tr style=\"text-align: right;\">\n",
       "      <th></th>\n",
       "      <th>id</th>\n",
       "      <th>age</th>\n",
       "      <th>commute_distance</th>\n",
       "      <th>num_stores</th>\n",
       "      <th>location</th>\n",
       "    </tr>\n",
       "  </thead>\n",
       "  <tbody>\n",
       "    <tr>\n",
       "      <th>0</th>\n",
       "      <td>320</td>\n",
       "      <td>fifteen</td>\n",
       "      <td>289.3248</td>\n",
       "      <td>5</td>\n",
       "      <td>24.98203_121.54348</td>\n",
       "    </tr>\n",
       "    <tr>\n",
       "      <th>1</th>\n",
       "      <td>321</td>\n",
       "      <td>nine</td>\n",
       "      <td>-491.0000</td>\n",
       "      <td>0</td>\n",
       "      <td>24.98569_121.5276</td>\n",
       "    </tr>\n",
       "    <tr>\n",
       "      <th>2</th>\n",
       "      <td>322</td>\n",
       "      <td>0</td>\n",
       "      <td>-70.0000</td>\n",
       "      <td>1</td>\n",
       "      <td>24.9748;121.53059</td>\n",
       "    </tr>\n",
       "    <tr>\n",
       "      <th>3</th>\n",
       "      <td>323</td>\n",
       "      <td>twenty-nine</td>\n",
       "      <td>535.5270</td>\n",
       "      <td>8</td>\n",
       "      <td>24.98092;121.53653</td>\n",
       "    </tr>\n",
       "    <tr>\n",
       "      <th>4</th>\n",
       "      <td>324</td>\n",
       "      <td>eighteen</td>\n",
       "      <td>373.3937</td>\n",
       "      <td>8</td>\n",
       "      <td>24.9866;121.54082</td>\n",
       "    </tr>\n",
       "  </tbody>\n",
       "</table>\n",
       "</div>"
      ],
      "text/plain": [
       "    id          age  commute_distance  num_stores            location\n",
       "0  320      fifteen          289.3248           5  24.98203_121.54348\n",
       "1  321         nine         -491.0000           0   24.98569_121.5276\n",
       "2  322            0          -70.0000           1   24.9748;121.53059\n",
       "3  323  twenty-nine          535.5270           8  24.98092;121.53653\n",
       "4  324     eighteen          373.3937           8   24.9866;121.54082"
      ]
     },
     "execution_count": 3,
     "metadata": {},
     "output_type": "execute_result"
    }
   ],
   "source": [
    "test = pd.read_csv('/Users/mohankarthikv/Documents/Data Analytics/test.csv')\n",
    "test.head()"
   ]
  },
  {
   "cell_type": "code",
   "execution_count": 4,
   "metadata": {
    "id": "hW7s7Dl6A2fF"
   },
   "outputs": [],
   "source": [
    "train['age'] = pd.to_numeric(train['age'], errors='coerce')\n",
    "train['commute_distance'] = pd.to_numeric(train['commute_distance'], errors='coerce')\n",
    "\n",
    "test['age'] = pd.to_numeric(test['age'], errors='coerce')\n",
    "test['commute_distance'] = pd.to_numeric(test['commute_distance'], errors='coerce')\n",
    "\n",
    "def split_location(location):\n",
    "    if pd.isna(location):\n",
    "        return pd.Series([np.nan, np.nan])\n",
    "    try:\n",
    "        sanitized_location = location.replace(';', ',').replace('_', ',')\n",
    "        parts = sanitized_location.split(',')\n",
    "        lat, lon = float(parts[0]), float(parts[1])\n",
    "        return pd.Series([lat, lon])\n",
    "    except (IndexError, ValueError):\n",
    "        return pd.Series([np.nan, np.nan])\n",
    "\n",
    "    # parts = location.replace(';', ',').split(',')\n",
    "    # return pd.Series([float(parts[0]), float(parts[1])])\n",
    "\n",
    "if 'location' in train.columns:\n",
    "    train[['latitude', 'longtitude']] = train['location'].apply(split_location)\n",
    "    train = train.drop(columns=['location'])\n",
    "\n",
    "if 'location' in test.columns:\n",
    "    test[['latitude', 'longtitude']] = test['location'].apply(split_location)\n",
    "    test = test.drop(columns=['location'])\n",
    "\n",
    "\n",
    "# train = train.drop(columns=['location'])\n",
    "# test = test.drop(columns=['location'])\n",
    "\n",
    "train = train.fillna(method='ffill')\n",
    "test = test.fillna(method='ffill')\n",
    "\n",
    "X=train.drop(columns=['id', 'outcome'])\n",
    "y=train['outcome']\n",
    "\n",
    "X_train, X_val, y_train, y_val = train_test_split(X, y, test_size=0.2, random_state=42)"
   ]
  },
  {
   "cell_type": "code",
   "execution_count": 5,
   "metadata": {
    "id": "wHrNW573ryKp"
   },
   "outputs": [],
   "source": [
    "from sklearn.impute import SimpleImputer\n",
    "\n",
    "imputer = SimpleImputer(strategy='mean')\n",
    "X_train_imputed = imputer.fit_transform(X_train)\n",
    "X_val_imputed = imputer.transform(X_val)\n",
    "X_test_imputed = imputer.transform(test.drop(columns=['id']))"
   ]
  },
  {
   "cell_type": "code",
   "execution_count": null,
   "metadata": {
    "id": "_Gidj9XWryRT"
   },
   "outputs": [],
   "source": []
  },
  {
   "cell_type": "markdown",
   "metadata": {
    "id": "DR-SDOzimse3"
   },
   "source": [
    "## Machine Learning\n",
    "\n",
    "Build a machine learning model that can predict the outcome.\n",
    "- **The model's performance will be evaluated on the basis of Accuracy Score.**"
   ]
  },
  {
   "cell_type": "code",
   "execution_count": 6,
   "metadata": {
    "id": "xlCNnIWZmoG6"
   },
   "outputs": [],
   "source": [
    "scaler = StandardScaler()\n",
    "X_train_scaled = scaler.fit_transform(X_train)\n",
    "X_val_scaled = scaler.transform(X_val)\n",
    "X_test_scaled = scaler.transform(test.drop(columns=['id']))"
   ]
  },
  {
   "cell_type": "code",
   "execution_count": 7,
   "metadata": {
    "id": "7VjhrFrutwWc"
   },
   "outputs": [
    {
     "name": "stdout",
     "output_type": "stream",
     "text": [
      "Validation Accuracy: 0.796875\n"
     ]
    }
   ],
   "source": [
    "model = RandomForestClassifier(random_state=42)\n",
    "model.fit(X_train_imputed, y_train)\n",
    "\n",
    "y_val_pred=model.predict(X_val_imputed)\n",
    "print(f'Validation Accuracy: {accuracy_score(y_val, y_val_pred)}')"
   ]
  },
  {
   "cell_type": "code",
   "execution_count": null,
   "metadata": {
    "id": "pnw0Nm2ztweC"
   },
   "outputs": [],
   "source": []
  },
  {
   "cell_type": "markdown",
   "metadata": {
    "id": "sXCkndGRm6Bz"
   },
   "source": [
    "> #### Task:\n",
    "- **Submit the predictions on the test dataset using your optimized model** <br/>\n",
    "    Submit a CSV file with a header row plus each of the test entries, each on its own line. \n",
    "\n",
    "The file (`submissions.csv`) should have exactly 2 columns:\n",
    "\n",
    "Column | Description\n",
    ":---|:---\n",
    "`id`  | Unique ID corresponding to the apartment\n",
    "`outcome`  | The predicted rent of the apartment (1 - High, 0 - Low)"
   ]
  },
  {
   "cell_type": "code",
   "execution_count": 8,
   "metadata": {
    "colab": {
     "base_uri": "https://localhost:8080/",
     "height": 204
    },
    "executionInfo": {
     "elapsed": 1193,
     "status": "ok",
     "timestamp": 1619527944020,
     "user": {
      "displayName": "Abhinav Gupta",
      "photoUrl": "https://lh3.googleusercontent.com/a-/AOh14GjBpiTimJbxMWFkdipjcGYSIUpGfIav82LSmCyTXw=s64",
      "userId": "04670585521629932433"
     },
     "user_tz": -330
    },
    "id": "m0UOiaNWnvL5",
    "outputId": "af2c41ef-8c1f-44c8-a8ad-3c059f299117"
   },
   "outputs": [
    {
     "data": {
      "text/html": [
       "<div>\n",
       "<style scoped>\n",
       "    .dataframe tbody tr th:only-of-type {\n",
       "        vertical-align: middle;\n",
       "    }\n",
       "\n",
       "    .dataframe tbody tr th {\n",
       "        vertical-align: top;\n",
       "    }\n",
       "\n",
       "    .dataframe thead th {\n",
       "        text-align: right;\n",
       "    }\n",
       "</style>\n",
       "<table border=\"1\" class=\"dataframe\">\n",
       "  <thead>\n",
       "    <tr style=\"text-align: right;\">\n",
       "      <th></th>\n",
       "      <th>id</th>\n",
       "      <th>age</th>\n",
       "      <th>commute_distance</th>\n",
       "      <th>num_stores</th>\n",
       "      <th>location</th>\n",
       "    </tr>\n",
       "  </thead>\n",
       "  <tbody>\n",
       "    <tr>\n",
       "      <th>0</th>\n",
       "      <td>320</td>\n",
       "      <td>fifteen</td>\n",
       "      <td>289.3248</td>\n",
       "      <td>5</td>\n",
       "      <td>24.98203_121.54348</td>\n",
       "    </tr>\n",
       "    <tr>\n",
       "      <th>1</th>\n",
       "      <td>321</td>\n",
       "      <td>nine</td>\n",
       "      <td>-491.0000</td>\n",
       "      <td>0</td>\n",
       "      <td>24.98569_121.5276</td>\n",
       "    </tr>\n",
       "    <tr>\n",
       "      <th>2</th>\n",
       "      <td>322</td>\n",
       "      <td>0</td>\n",
       "      <td>-70.0000</td>\n",
       "      <td>1</td>\n",
       "      <td>24.9748;121.53059</td>\n",
       "    </tr>\n",
       "    <tr>\n",
       "      <th>3</th>\n",
       "      <td>323</td>\n",
       "      <td>twenty-nine</td>\n",
       "      <td>535.5270</td>\n",
       "      <td>8</td>\n",
       "      <td>24.98092;121.53653</td>\n",
       "    </tr>\n",
       "    <tr>\n",
       "      <th>4</th>\n",
       "      <td>324</td>\n",
       "      <td>eighteen</td>\n",
       "      <td>373.3937</td>\n",
       "      <td>8</td>\n",
       "      <td>24.9866;121.54082</td>\n",
       "    </tr>\n",
       "  </tbody>\n",
       "</table>\n",
       "</div>"
      ],
      "text/plain": [
       "    id          age  commute_distance  num_stores            location\n",
       "0  320      fifteen          289.3248           5  24.98203_121.54348\n",
       "1  321         nine         -491.0000           0   24.98569_121.5276\n",
       "2  322            0          -70.0000           1   24.9748;121.53059\n",
       "3  323  twenty-nine          535.5270           8  24.98092;121.53653\n",
       "4  324     eighteen          373.3937           8   24.9866;121.54082"
      ]
     },
     "execution_count": 8,
     "metadata": {},
     "output_type": "execute_result"
    }
   ],
   "source": [
    "test = pd.read_csv('/Users/mohankarthikv/Documents/Data Analytics/test.csv')\n",
    "test.head()"
   ]
  },
  {
   "cell_type": "code",
   "execution_count": 11,
   "metadata": {
    "id": "JvDjtDgQPf0B"
   },
   "outputs": [],
   "source": [
    "test_predictions = model.predict(X_test_imputed)\n",
    "submission_df = pd.DataFrame({\n",
    "    'id': test['id'],\n",
    "    'outcome': test_predictions\n",
    "})"
   ]
  },
  {
   "cell_type": "code",
   "execution_count": 12,
   "metadata": {
    "id": "oo1BW2qnnzJj"
   },
   "outputs": [],
   "source": [
    "#Submission\n",
    "submission_df.to_csv('submissions.csv', index=False)"
   ]
  },
  {
   "cell_type": "code",
   "execution_count": null,
   "metadata": {},
   "outputs": [],
   "source": []
  }
 ],
 "metadata": {
  "colab": {
   "authorship_tag": "ABX9TyPeimH63fxTJUvKqQ6fimMm",
   "collapsed_sections": [],
   "name": "Questions.ipynb",
   "provenance": [],
   "toc_visible": true
  },
  "kernelspec": {
   "display_name": "Python 3 (ipykernel)",
   "language": "python",
   "name": "python3"
  },
  "language_info": {
   "codemirror_mode": {
    "name": "ipython",
    "version": 3
   },
   "file_extension": ".py",
   "mimetype": "text/x-python",
   "name": "python",
   "nbconvert_exporter": "python",
   "pygments_lexer": "ipython3",
   "version": "3.11.5"
  }
 },
 "nbformat": 4,
 "nbformat_minor": 4
}
